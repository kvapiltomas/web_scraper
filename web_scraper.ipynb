import requests
from bs4 import BeautifulSoup
import pandas as pd
import numpy as np
import matplotlib.pyplot as plt
import seaborn as sns
import os

%matplotlib inline

urls = ['https://www.idnes.cz/zpravy/zahranicni','https://www.idnes.cz/zpravy/domaci']

def get_data(urls):
  
  for url in urls:
    data = requests.get(url)
    bs = BeautifulSoup(data.content, 'html.parser')
    if data:
      print('s')
    else:
      print('n')
    print(bs)
  headline = bs.find_all('div', class_ = 'h3')
  article = bs.find_all('p', class_ = 'perex')
  headlines = [h.get_text() for h in headline]
  articles = [a.get_text() for a in article]
  #news_data = pd.DataFrame({'headline': headlines,
  #                         'arcticle': articles})
  #news_data.extend(headlines,articles)
  print(headline)
  #print(article)
  #news_data.extend(h)
  #print(news_data) 
               
  #strip_html_tags(articles)           
  #news_data.extend(articles)
  #news_data(articles)

get_data(urls)

urls = ['https://www.idnes.cz/zpravy/zahranicni','https://www.idnes.cz/zpravy/domaci']

url = 'https://www.idnes.cz/zpravy/domaci'
data = requests.get(url)
bs = BeautifulSoup(data.content, 'html.parser')
if data:
  print('s')
else:
  print('n')
#print(bs.prettify())
#headline = bs.find('h3').string
article = bs.find_find_all('p', class_ = 'perex').get_text()
#print(articl)
headline = bs.find_all('h3').get_text()
#print(headline)
